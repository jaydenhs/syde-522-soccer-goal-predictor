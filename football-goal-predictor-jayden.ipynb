{
 "cells": [
  {
   "cell_type": "code",
   "execution_count": 6,
   "metadata": {},
   "outputs": [
    {
     "name": "stdout",
     "output_type": "stream",
     "text": [
      "228434 shot attempts\n"
     ]
    }
   ],
   "source": [
    "import pandas as pd\n",
    "from sklearn.model_selection import train_test_split\n",
    "\n",
    "data = pd.read_csv('data/events.csv')\n",
    "\n",
    "# filters to shot attempts, excludes own goals\n",
    "shot_attempts = data[(data['event_type'] == 1) & (data['event_type2'] != 15)]\n",
    "print(f\"{len(shot_attempts)} shot attempts\")"
   ]
  },
  {
   "cell_type": "code",
   "execution_count": 8,
   "metadata": {},
   "outputs": [
    {
     "name": "stdout",
     "output_type": "stream",
     "text": [
      "        fast_break  location_3.0  location_6.0  location_7.0  location_8.0  \\\n",
      "240964           0         False         False         False         False   \n",
      "631427           0         False         False         False         False   \n",
      "897708           0         False         False         False         False   \n",
      "271013           0         False         False         False         False   \n",
      "683805           0         False         False         False         False   \n",
      "...            ...           ...           ...           ...           ...   \n",
      "122142           1         False         False         False         False   \n",
      "790839           0          True         False         False         False   \n",
      "427968           0         False         False         False         False   \n",
      "808413           0         False         False         False         False   \n",
      "281648           0         False         False         False         False   \n",
      "\n",
      "        location_9.0  location_10.0  location_11.0  location_12.0  \\\n",
      "240964          True          False          False          False   \n",
      "631427         False          False          False          False   \n",
      "897708         False          False          False          False   \n",
      "271013         False          False          False          False   \n",
      "683805         False          False          False          False   \n",
      "...              ...            ...            ...            ...   \n",
      "122142         False           True          False          False   \n",
      "790839         False          False          False          False   \n",
      "427968         False          False          False          False   \n",
      "808413         False          False           True          False   \n",
      "281648         False          False          False          False   \n",
      "\n",
      "        location_13.0  ...  bodypart_3.0  assist_method_0  assist_method_1  \\\n",
      "240964          False  ...         False            False             True   \n",
      "631427          False  ...         False             True            False   \n",
      "897708          False  ...         False             True            False   \n",
      "271013          False  ...         False             True            False   \n",
      "683805          False  ...         False            False             True   \n",
      "...               ...  ...           ...              ...              ...   \n",
      "122142          False  ...         False            False             True   \n",
      "790839          False  ...         False             True            False   \n",
      "427968          False  ...         False            False             True   \n",
      "808413          False  ...         False            False             True   \n",
      "281648           True  ...          True            False            False   \n",
      "\n",
      "        assist_method_2  assist_method_3  assist_method_4  situation_1.0  \\\n",
      "240964            False            False            False           True   \n",
      "631427            False            False            False          False   \n",
      "897708            False            False            False          False   \n",
      "271013            False            False            False          False   \n",
      "683805            False            False            False           True   \n",
      "...                 ...              ...              ...            ...   \n",
      "122142            False            False            False           True   \n",
      "790839            False            False            False           True   \n",
      "427968            False            False            False           True   \n",
      "808413            False            False            False           True   \n",
      "281648             True            False            False           True   \n",
      "\n",
      "        situation_2.0  situation_3.0  situation_4.0  \n",
      "240964          False          False          False  \n",
      "631427           True          False          False  \n",
      "897708          False          False           True  \n",
      "271013          False           True          False  \n",
      "683805          False          False          False  \n",
      "...               ...            ...            ...  \n",
      "122142          False          False          False  \n",
      "790839          False          False          False  \n",
      "427968          False          False          False  \n",
      "808413          False          False          False  \n",
      "281648          False          False          False  \n",
      "\n",
      "[137060 rows x 28 columns]\n"
     ]
    }
   ],
   "source": [
    "features = ['location', 'bodypart', 'assist_method', 'situation', 'fast_break']\n",
    "target = 'is_goal'\n",
    "shot_data = shot_attempts[features + [target]]\n",
    "\n",
    "X = shot_data[features]\n",
    "y = shot_data[target]\n",
    "\n",
    "# One-hot encoding categorical features\n",
    "categorical_cols = ['location', 'bodypart', 'assist_method', 'situation']\n",
    "X_encoded = pd.get_dummies(X, columns=categorical_cols)\n",
    "\n",
    "X_encoded['fast_break'] = X['fast_break']\n",
    "\n",
    "X_train, X_test, y_train, y_test = train_test_split(X_encoded, y, test_size=0.2, random_state=0)\n",
    "X_train, X_val, y_train, y_val = train_test_split(X_train, y_train, test_size=0.25, random_state=0)\n",
    "\n",
    "print(X_train)"
   ]
  },
  {
   "cell_type": "markdown",
   "metadata": {},
   "source": [
    "### Model 3: SVM (Jayden)"
   ]
  },
  {
   "cell_type": "code",
   "execution_count": null,
   "metadata": {},
   "outputs": [],
   "source": []
  },
  {
   "cell_type": "markdown",
   "metadata": {},
   "source": [
    "### Model 4: Random Forest (Jayden)"
   ]
  },
  {
   "cell_type": "code",
   "execution_count": null,
   "metadata": {},
   "outputs": [],
   "source": []
  }
 ],
 "metadata": {
  "kernelspec": {
   "display_name": "syde522",
   "language": "python",
   "name": "python3"
  },
  "language_info": {
   "codemirror_mode": {
    "name": "ipython",
    "version": 3
   },
   "file_extension": ".py",
   "mimetype": "text/x-python",
   "name": "python",
   "nbconvert_exporter": "python",
   "pygments_lexer": "ipython3",
   "version": "3.11.5"
  }
 },
 "nbformat": 4,
 "nbformat_minor": 2
}
