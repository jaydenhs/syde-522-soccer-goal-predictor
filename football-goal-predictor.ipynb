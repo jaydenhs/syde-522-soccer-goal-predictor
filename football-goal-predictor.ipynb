{
 "cells": [
  {
   "cell_type": "markdown",
   "metadata": {},
   "source": [
    "Notepad:\n",
    "\n",
    "Yo! Was taking a look at 522 and saw some other people setting their x values on the dataset to be location bodypart, assist method, situation, and fast break. Are you cool with using these parameters to make the model?\n",
    "\n",
    "Event type 1 is a shot attempt, we want to filter to that\n",
    "\n",
    "We want to predict is_goal (binary variable) based on: location, bodypart, assist method, situation, fast break"
   ]
  },
  {
   "cell_type": "code",
   "execution_count": 6,
   "metadata": {},
   "outputs": [
    {
     "name": "stdout",
     "output_type": "stream",
     "text": [
      "229135 shot attempts\n",
      "Accuracy: 90.93329260043205%\n"
     ]
    }
   ],
   "source": [
    "import pandas as pd\n",
    "from sklearn.model_selection import train_test_split\n",
    "from sklearn.ensemble import RandomForestClassifier\n",
    "from sklearn.metrics import accuracy_score\n",
    "\n",
    "data = pd.read_csv('data/events.csv')\n",
    "shot_attempts = data[data['event_type'] == 1]\n",
    "shot_attempts.to_csv('data/shot-attempts.csv', index=False)\n",
    "\n",
    "print(f\"{len(shot_attempts)} shot attempts\")\n",
    "\n",
    "features = ['location', 'bodypart', 'assist_method', 'situation', 'fast_break']\n",
    "target = 'is_goal'\n",
    "\n",
    "shot_data = shot_attempts[features + [target]].dropna()  # Drop rows with missing values\n",
    "\n",
    "X = shot_data[features]\n",
    "y = shot_data[target]\n",
    "X_train, X_test, y_train, y_test = train_test_split(X, y, test_size=0.2, random_state=42)\n",
    "\n",
    "model = RandomForestClassifier(n_estimators=100, random_state=42)\n",
    "model.fit(X_train, y_train)\n",
    "\n",
    "predictions = model.predict(X_test)\n",
    "\n",
    "accuracy = accuracy_score(y_test, predictions)\n",
    "print(f\"Accuracy: {accuracy*100}%\")\n"
   ]
  },
  {
   "cell_type": "code",
   "execution_count": null,
   "metadata": {},
   "outputs": [],
   "source": []
  }
 ],
 "metadata": {
  "kernelspec": {
   "display_name": "syde522",
   "language": "python",
   "name": "python3"
  },
  "language_info": {
   "codemirror_mode": {
    "name": "ipython",
    "version": 3
   },
   "file_extension": ".py",
   "mimetype": "text/x-python",
   "name": "python",
   "nbconvert_exporter": "python",
   "pygments_lexer": "ipython3",
   "version": "3.11.5"
  }
 },
 "nbformat": 4,
 "nbformat_minor": 2
}
